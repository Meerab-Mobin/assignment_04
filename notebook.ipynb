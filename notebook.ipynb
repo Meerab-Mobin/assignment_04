{
 "cells": [
  {
   "cell_type": "code",
   "execution_count": 5,
   "metadata": {},
   "outputs": [
    {
     "name": "stdout",
     "output_type": "stream",
     "text": [
      "hello world\n"
     ]
    }
   ],
   "source": [
    "\n",
    "print(\"hello world\") "
   ]
  },
  {
   "cell_type": "code",
   "execution_count": 4,
   "metadata": {},
   "outputs": [
    {
     "name": "stdout",
     "output_type": "stream",
     "text": [
      "merab is a mobin daughter \n"
     ]
    }
   ],
   "source": [
    "print(\"merab is a mobin daughter \")"
   ]
  },
  {
   "cell_type": "code",
   "execution_count": null,
   "metadata": {},
   "outputs": [],
   "source": [
    "#list \n",
    "students = [\n",
    "\"merrab \",\"21  \",\"03216633498\"......\n",
    "]\n",
    "\n",
    "#dictionary \n",
    "students {\n",
    "    'name' : 'meerab ',\n",
    "    \"age \" : 21, \n",
    "    \"no\" : \"03146633498\"\n",
    "  }\n",
    "\n",
    "print(students[\"name \"])\n",
    "print(students[\"age \"])\n",
    "print( students [\"no\"])\n",
    "\n",
    "print(students.keys )\n",
    "print(students .get [\"name \"])"
   ]
  }
 ],
 "metadata": {
  "kernelspec": {
   "display_name": "Python 3",
   "language": "python",
   "name": "python3"
  },
  "language_info": {
   "codemirror_mode": {
    "name": "ipython",
    "version": 3
   },
   "file_extension": ".py",
   "mimetype": "text/x-python",
   "name": "python",
   "nbconvert_exporter": "python",
   "pygments_lexer": "ipython3",
   "version": "3.12.4"
  }
 },
 "nbformat": 4,
 "nbformat_minor": 2
}
